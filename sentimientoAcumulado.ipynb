{
  "nbformat": 4,
  "nbformat_minor": 0,
  "metadata": {
    "colab": {
      "provenance": [],
      "mount_file_id": "1wy4GT1J-nG4JS1R8xBSa2geMmIXEU8QV",
      "authorship_tag": "ABX9TyMafROa+0q+ctEDVcanyAms",
      "include_colab_link": true
    },
    "kernelspec": {
      "name": "python3",
      "display_name": "Python 3"
    },
    "language_info": {
      "name": "python"
    }
  },
  "cells": [
    {
      "cell_type": "markdown",
      "metadata": {
        "id": "view-in-github",
        "colab_type": "text"
      },
      "source": [
        "<a href=\"https://colab.research.google.com/github/MaggieHDez/MathStatsAI/blob/main/sentimientoAcumulado.ipynb\" target=\"_parent\"><img src=\"https://colab.research.google.com/assets/colab-badge.svg\" alt=\"Open In Colab\"/></a>"
      ]
    },
    {
      "cell_type": "code",
      "source": [
        "import numpy as np\n",
        "import pandas as pd\n",
        "from scipy.integrate import quad\n",
        "import math\n",
        "\n",
        "# Parámetros de integración\n",
        "a = 6   # Primer salario como límite inferior\n",
        "b = 30  # Último salario como límite superior\n",
        "n = 25  # Número de rectángulos\n",
        "delta_s = (b - a) / n  # Ancho de cada rectángulo\n",
        "\n",
        "# Se generan los extremos: s_0, s_1, ..., s_n\n",
        "extremos = np.linspace(a, b, n+1)\n",
        "\n",
        "# Calculamos los puntos medios usando la fórmula: (s_{i-1} + s_i) / 2 para i = 1, ..., n\n",
        "punto_medio = (extremos[:-1] + extremos[1:]) / 2\n",
        "\n",
        "# Se define la función logística p(s)\n",
        "def p(s):\n",
        "    return 1 / (1 + np.exp(-(s - 23)))\n",
        "\n",
        "# --- Suma de Riemann (puntos medios) ---\n",
        "# Se evalúa la función en cada punto medio\n",
        "p_medios = p(punto_medio)\n",
        "# Calculamos el área de cada subintervalo (valor en el punto medio * Δs)\n",
        "areas = p_medios * delta_s\n",
        "# Suma total de Riemann: aproximación de la integral\n",
        "riemann_total = np.sum(areas)\n",
        "\n",
        "# --- Método del Trapecio ---\n",
        "# Se evalúan los extremos en la función p(s)\n",
        "p_trapecio = p(extremos)\n",
        "# Calculamos el área de cada trapezoide: ((p(s_{i-1})+p(s_i))/2)*Δs\n",
        "areas_trapecio = ((p_trapecio[:-1] + p_trapecio[1:]) / 2) * delta_s\n",
        "# Suma total del método del Trapecio\n",
        "trapecio_total = np.sum(areas_trapecio)\n",
        "\n",
        "# --- Integración analítica usando cambio de variable ---\n",
        "# La antiderivada es: F(s)= ln(1 + e^(s-23))\n",
        "def F(s):\n",
        "    return np.log(1 + np.exp(s - 23))\n",
        "i_analitica = F(b) - F(a)\n",
        "\n",
        "# --- Integración de la aproximación de Taylor ---\n",
        "# Definición del polinomio de Taylor\n",
        "def T(s):\n",
        "    return 0.5 + 0.25*(s-23) - (1/48)*(s-23)**3\n",
        "\n",
        "# Antiderivada del polinomio de Taylor\n",
        "def antideriv_T(s):\n",
        "    return 0.5*s + 0.125*(s-23)**2 - (1/192)*(s-23)**4\n",
        "\n",
        "antideriv_30 = antideriv_T(b)\n",
        "antideriv_6 = antideriv_T(a)\n",
        "i_taylor = antideriv_30 - antideriv_6\n",
        "\n",
        "# Crear la tabla con la evaluación de cada subintervalo\n",
        "tabla = pd.DataFrame({\n",
        "    \"i\": np.arange(1, n+1),\n",
        "    \"s_{i-1}\": extremos[:-1],\n",
        "    \"s_i\": extremos[1:],\n",
        "    \"Punto Medio\": punto_medio,\n",
        "    \"p(Punto Medio)\": p_medios,\n",
        "    \"Área punto medio (p * Δs)\": areas,\n",
        "    \"Área Trapecio\": areas_trapecio\n",
        "})\n",
        "\n",
        "# Mostrar la tabla y los resultados totales\n",
        "print(tabla.to_string(index=False))\n",
        "print(\"\\nSuma de Riemann (aproximación total de la integral):\", riemann_total)\n",
        "print(\"Suma por método del Trapecio (aproximación total de la integral):\", trapecio_total)\n",
        "print(\"Integración analítica (cambio de variable):\", i_analitica)\n",
        "print(\"Antiderivada de 30:\", antideriv_30)\n",
        "print(\"Antiderivada de 6:\", antideriv_6)\n",
        "print(\"Integración de la aproximación de Taylor:\", i_taylor)"
      ],
      "metadata": {
        "colab": {
          "base_uri": "https://localhost:8080/"
        },
        "id": "3rIh2B-Rl_Sw",
        "outputId": "1254c4b7-932d-4db8-ae3f-611b86414dc8"
      },
      "execution_count": 29,
      "outputs": [
        {
          "output_type": "stream",
          "name": "stdout",
          "text": [
            " i  s_{i-1}   s_i  Punto Medio  p(Punto Medio)  Área punto medio (p * Δs)  Área Trapecio\n",
            " 1     6.00  6.96         6.48    6.690447e-08               6.422829e-08   7.177055e-08\n",
            " 2     6.96  7.92         7.44    1.747341e-07               1.677448e-07   1.874429e-07\n",
            " 3     7.92  8.88         8.40    4.563524e-07               4.380983e-07   4.895437e-07\n",
            " 4     8.88  9.84         9.36    1.191853e-06               1.144179e-06   1.278538e-06\n",
            " 5     9.84 10.80        10.32    3.112753e-06               2.988243e-06   3.339145e-06\n",
            " 6    10.80 11.76        11.28    8.129524e-06               7.804343e-06   8.720775e-06\n",
            " 7    11.76 12.72        12.24    2.123157e-05               2.038231e-05   2.277562e-05\n",
            " 8    12.72 13.68        13.20    5.544852e-05               5.323058e-05   5.948027e-05\n",
            " 9    13.68 14.64        14.16    1.448018e-04               1.390097e-04   1.553258e-04\n",
            "10    14.64 15.60        15.12    3.780901e-04               3.629664e-04   4.055371e-04\n",
            "11    15.60 16.56        16.08    9.868551e-04               9.473809e-04   1.058276e-03\n",
            "12    16.56 17.52        17.04    2.573273e-03               2.470342e-03   2.758023e-03\n",
            "13    17.52 18.48        18.00    6.692851e-03               6.425137e-03   7.163399e-03\n",
            "14    18.48 19.44        18.96    1.729316e-02               1.660143e-02   1.844359e-02\n",
            "15    19.44 20.40        19.92    4.393982e-02               4.218222e-02   4.645960e-02\n",
            "16    20.40 21.36        20.88    1.071681e-01               1.028813e-01   1.111697e-01\n",
            "17    21.36 22.32        21.84    2.386673e-01               2.291206e-01   2.393887e-01\n",
            "18    22.32 23.28        22.80    4.501660e-01               4.321594e-01   4.347876e-01\n",
            "19    23.28 24.24        23.76    6.813537e-01               6.540996e-01   6.456529e-01\n",
            "20    24.24 25.20        24.72    8.481288e-01               8.142037e-01   8.043905e-01\n",
            "21    25.20 26.16        25.68    9.358361e-01               8.984027e-01   8.925842e-01\n",
            "22    26.16 27.12        26.64    9.744192e-01               9.354424e-01   9.327917e-01\n",
            "23    27.12 28.08        27.60    9.900482e-01               9.504463e-01   9.493602e-01\n",
            "24    28.08 29.04        28.56    9.961660e-01               9.563193e-01   9.558925e-01\n",
            "25    29.04 30.00        29.52    9.985285e-01               9.585874e-01   9.584223e-01\n",
            "\n",
            "Suma de Riemann (aproximación total de la integral): 7.00087737250092\n",
            "Suma por método del Trapecio (aproximación total de la integral): 7.0009802957454585\n",
            "Integración analítica (cambio de variable): 7.000911425054397\n",
            "Antiderivada de 30: 8.619791666666668\n",
            "Antiderivada de 6: -395.8802083333333\n",
            "Integración de la aproximación de Taylor: 404.5\n"
          ]
        }
      ]
    }
  ]
}