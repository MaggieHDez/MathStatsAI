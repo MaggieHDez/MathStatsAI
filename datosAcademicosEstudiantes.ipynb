{
  "nbformat": 4,
  "nbformat_minor": 0,
  "metadata": {
    "colab": {
      "provenance": [],
      "mount_file_id": "1AW8JsrcovrUkNg8Te1qjckdNEHJEIq7-",
      "authorship_tag": "ABX9TyOubLIBMQ5nuq1gHPppkPNG",
      "include_colab_link": true
    },
    "kernelspec": {
      "name": "python3",
      "display_name": "Python 3"
    },
    "language_info": {
      "name": "python"
    }
  },
  "cells": [
    {
      "cell_type": "markdown",
      "metadata": {
        "id": "view-in-github",
        "colab_type": "text"
      },
      "source": [
        "<a href=\"https://colab.research.google.com/github/MaggieHDez/MathStatsAI/blob/main/datosAcademicosEstudiantes.ipynb\" target=\"_parent\"><img src=\"https://colab.research.google.com/assets/colab-badge.svg\" alt=\"Open In Colab\"/></a>"
      ]
    },
    {
      "cell_type": "code",
      "execution_count": 32,
      "metadata": {
        "colab": {
          "base_uri": "https://localhost:8080/"
        },
        "id": "vUYdr4SVyLT4",
        "outputId": "711fdcce-8461-493c-fc98-ed5db51f05f6"
      },
      "outputs": [
        {
          "output_type": "stream",
          "name": "stdout",
          "text": [
            "Resultados de promedios por estudiante:\n",
            "         Promedio (peso)  Promedio\n",
            "202501           7.1904     7.125\n",
            "202502           7.2073     6.977\n",
            "202503           6.1217     5.968\n",
            "202504           7.0258     7.333\n",
            "202505           5.5403     5.450\n",
            "202506           6.8858     6.989\n",
            "202507           6.7943     6.660\n",
            "202508           6.5940     6.874\n",
            "202509           7.2648     6.734\n",
            "202510           6.6326     6.698\n",
            "\n",
            "Matriz de covarianza entre asignaturas:\n",
            " Asignatura             Literatura  Historia  Matemáticas    Física   Química  \\\n",
            "Asignatura                                                                     \n",
            "Literatura               5.413444 -1.263889    -1.048444  0.091889 -2.931556   \n",
            "Historia                -1.263889  4.056111    -1.718889 -1.625000  1.662222   \n",
            "Matemáticas             -1.048444 -1.718889     6.464000 -0.270222  0.590444   \n",
            "Física                   0.091889 -1.625000    -0.270222  6.358778 -0.389778   \n",
            "Química                 -2.931556  1.662222     0.590444 -0.389778  3.470667   \n",
            "Sociedad                 2.074778  1.396111    -1.383667 -0.766556 -0.634667   \n",
            "Lenguas extranjeras      4.745711 -0.731889    -1.115489 -0.079800 -2.472178   \n",
            "Matemáticas Aplicadas   -1.166433 -0.504500     2.035267  1.709633  1.101400   \n",
            "Proyecto social          0.638600 -0.110333     0.685289  0.911089 -0.213733   \n",
            "Desarrollo físico        0.582389  0.252611    -1.018667 -0.856389 -0.550000   \n",
            "\n",
            "Asignatura             Sociedad  Lenguas extranjeras  Matemáticas Aplicadas  \\\n",
            "Asignatura                                                                    \n",
            "Literatura             2.074778             4.745711              -1.166433   \n",
            "Historia               1.396111            -0.731889              -0.504500   \n",
            "Matemáticas           -1.383667            -1.115489               2.035267   \n",
            "Física                -0.766556            -0.079800               1.709633   \n",
            "Química               -0.634667            -2.472178               1.101400   \n",
            "Sociedad               1.735444             2.006911              -0.835467   \n",
            "Lenguas extranjeras    2.006911             4.197951              -1.100240   \n",
            "Matemáticas Aplicadas -0.835467            -1.100240               1.453890   \n",
            "Proyecto social        0.264133             0.563707               0.414793   \n",
            "Desarrollo físico      0.417500             0.549411              -0.727517   \n",
            "\n",
            "Asignatura             Proyecto social  Desarrollo físico  \n",
            "Asignatura                                                 \n",
            "Literatura                    0.638600           0.582389  \n",
            "Historia                     -0.110333           0.252611  \n",
            "Matemáticas                   0.685289          -1.018667  \n",
            "Física                        0.911089          -0.856389  \n",
            "Química                      -0.213733          -0.550000  \n",
            "Sociedad                      0.264133           0.417500  \n",
            "Lenguas extranjeras           0.563707           0.549411  \n",
            "Matemáticas Aplicadas         0.414793          -0.727517  \n",
            "Proyecto social               0.424929          -0.208011  \n",
            "Desarrollo físico            -0.208011           0.364050  \n",
            "\n",
            "Determinante de la matriz de covarianza entre asignaturas: 4.278277393620572e-65\n",
            "\n",
            "Rango de la matriz de calificaciones: 6\n",
            "Número total de asignaturas: 10\n"
          ]
        }
      ],
      "source": [
        "import pandas as pd\n",
        "import numpy as np\n",
        "import seaborn as sns\n",
        "import matplotlib.pyplot as plt\n",
        "\n",
        "# Cargar datos desde el archivo CSV\n",
        "df = pd.read_csv('/content/drive/MyDrive/MathHW/calificaciones.csv')\n",
        "\n",
        "# Extraer columnas relevantes\n",
        "asignaturas = df['Asignatura']\n",
        "pesos = pd.to_numeric(df['Peso'], errors='coerce')\n",
        "calificaciones = df.iloc[:, 2:]  # Las columnas a partir de la 3 son calificaciones\n",
        "\n",
        "# Reindexar la Serie de pesos con los nombres de las asignaturas\n",
        "pesos.index = asignaturas\n",
        "\n",
        "# Asignar los nombres de las asignaturas como índice del DataFrame de calificaicones\n",
        "calificaciones.index = asignaturas\n",
        "\n",
        "# -----------------------------------------------------\n",
        "# Cálculo de promedios para cada estudiante\n",
        "# -----------------------------------------------------\n",
        "\n",
        "# Promedio (peso): se multiplica cada calificación por el peso de la asignatura\n",
        "promedios_peso = (calificaciones.mul(pesos, axis=0).sum() / pesos.sum()).round(4)\n",
        "\n",
        "# Promedio: media aritmética de las calificaciones\n",
        "promedios = calificaciones.mean().round(4)\n",
        "\n",
        "# Crear DataFrame con resultados (cada columna es un estudiante)\n",
        "resultados = pd.DataFrame({\n",
        "    'Promedio (peso)': promedios_peso,\n",
        "    'Promedio': promedios\n",
        "})\n",
        "print(\"Resultados de promedios por estudiante:\\n\", resultados)\n",
        "\n",
        "# -----------------------------------------------------\n",
        "# Cálculos para evaluar la dependencia lineal entre asignaturas\n",
        "# -----------------------------------------------------\n",
        "\n",
        "# Calcular la matriz de covarianza entre asignaturas (transponiendo el DataFrame\n",
        "# para poner asignaturas como columna)\n",
        "cov_matrix_asignaturas = calificaciones.T.cov()\n",
        "print(\"\\nMatriz de covarianza entre asignaturas:\\n\", cov_matrix_asignaturas)\n",
        "\n",
        "# Calcular el determinante de la matriz de covarianza de las asignaturas\n",
        "determinante = np.linalg.det(cov_matrix_asignaturas)\n",
        "print(\"\\nDeterminante de la matriz de covarianza entre asignaturas:\", determinante)\n",
        "\n",
        "# Calcular el rango de la matriz de calificaciones (filas = asignaturas)\n",
        "rango = np.linalg.matrix_rank(calificaciones)\n",
        "num_asignaturas = calificaciones.shape[0]\n",
        "print(\"\\nRango de la matriz de calificaciones:\", rango)\n",
        "print(\"Número total de asignaturas:\", num_asignaturas)\n"
      ]
    }
  ]
}